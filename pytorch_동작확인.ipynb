{
  "nbformat": 4,
  "nbformat_minor": 0,
  "metadata": {
    "colab": {
      "name": "pytorch 동작확인.ipynb",
      "version": "0.3.2",
      "provenance": [],
      "include_colab_link": true
    },
    "kernelspec": {
      "name": "python3",
      "display_name": "Python 3"
    },
    "accelerator": "GPU"
  },
  "cells": [
    {
      "cell_type": "markdown",
      "metadata": {
        "id": "view-in-github",
        "colab_type": "text"
      },
      "source": [
        "<a href=\"https://colab.research.google.com/github/JacksianYun/pytorch_tutorial/blob/master/pytorch_%EB%8F%99%EC%9E%91%ED%99%95%EC%9D%B8.ipynb\" target=\"_parent\"><img src=\"https://colab.research.google.com/assets/colab-badge.svg\" alt=\"Open In Colab\"/></a>"
      ]
    },
    {
      "metadata": {
        "id": "QCrzOktoh1K4",
        "colab_type": "code",
        "outputId": "028bbf4e-aa56-4a69-a0ff-fd797e201686",
        "colab": {
          "base_uri": "https://localhost:8080/",
          "height": 35
        }
      },
      "cell_type": "code",
      "source": [
        "# http://pytorch.org/\n",
        "from os.path import exists\n",
        "from wheel.pep425tags import get_abbr_impl, get_impl_ver, get_abi_tag\n",
        "platform = '{}{}-{}'.format(get_abbr_impl(), get_impl_ver(), get_abi_tag())\n",
        "cuda_output = !ldconfig -p|grep cudart.so|sed -e 's/.*\\.\\([0-9]*\\)\\.\\([0-9]*\\)$/cu\\1\\2/'\n",
        "accelerator = cuda_output[0] if exists('/dev/nvidia0') else 'cpu'\n",
        "\n",
        "!pip install -q http://download.pytorch.org/whl/{accelerator}/torch-0.4.1-{platform}-linux_x86_64.whl torchvision\n",
        "import torch\n",
        "\n",
        "torch.cuda.is_available()"
      ],
      "execution_count": 1,
      "outputs": [
        {
          "output_type": "execute_result",
          "data": {
            "text/plain": [
              "True"
            ]
          },
          "metadata": {
            "tags": []
          },
          "execution_count": 1
        }
      ]
    },
    {
      "metadata": {
        "id": "fYghXMdCmRiC",
        "colab_type": "code",
        "colab": {}
      },
      "cell_type": "code",
      "source": [
        "import torch.nn as nn\n",
        "from torch.autograd import Variable\n",
        "import numpy as np"
      ],
      "execution_count": 0,
      "outputs": []
    },
    {
      "metadata": {
        "id": "roKIBvL3iCyh",
        "colab_type": "code",
        "colab": {}
      },
      "cell_type": "code",
      "source": [
        "linear1 = torch.nn.Linear(128, 5, bias = True)\n",
        "linear2 = torch.nn.Linear(5, 10, bias = True)\n",
        "relu = torch.nn.ReLU()\n",
        "\n",
        "weight1 = list(linear1.parameters())\n",
        "weight2 = list(linear2.parameters())"
      ],
      "execution_count": 0,
      "outputs": []
    },
    {
      "metadata": {
        "id": "owzdwWRxjSnl",
        "colab_type": "code",
        "outputId": "2f78c699-342f-4794-f2f1-778a43e3d531",
        "colab": {
          "base_uri": "https://localhost:8080/",
          "height": 71
        }
      },
      "cell_type": "code",
      "source": [
        "print('linear1' , linear1)\n",
        "print('linear2', linear2)\n",
        "print('relu', relu)\n",
        "\n"
      ],
      "execution_count": 4,
      "outputs": [
        {
          "output_type": "stream",
          "text": [
            "linear1 Linear(in_features=128, out_features=5, bias=True)\n",
            "linear2 Linear(in_features=5, out_features=10, bias=True)\n",
            "relu ReLU()\n"
          ],
          "name": "stdout"
        }
      ]
    },
    {
      "metadata": {
        "id": "aF64UrKVkUFF",
        "colab_type": "code",
        "outputId": "db8cebaf-6bfa-4894-cde6-bdb4282617c0",
        "colab": {
          "base_uri": "https://localhost:8080/",
          "height": 71
        }
      },
      "cell_type": "code",
      "source": [
        "print(len(weight1))\n",
        "print(weight1[0].size())\n",
        "print(weight1[1].size())"
      ],
      "execution_count": 5,
      "outputs": [
        {
          "output_type": "stream",
          "text": [
            "2\n",
            "torch.Size([5, 128])\n",
            "torch.Size([5])\n"
          ],
          "name": "stdout"
        }
      ]
    },
    {
      "metadata": {
        "id": "37bC14VJkpUs",
        "colab_type": "code",
        "outputId": "18d27338-dbe1-474d-c42b-63f576b30878",
        "colab": {
          "base_uri": "https://localhost:8080/",
          "height": 359
        }
      },
      "cell_type": "code",
      "source": [
        "print(weight1[0][0])\n",
        "print(weight1[1])"
      ],
      "execution_count": 6,
      "outputs": [
        {
          "output_type": "stream",
          "text": [
            "tensor([ 0.0530,  0.0001,  0.0582, -0.0692, -0.0715, -0.0631, -0.0516,  0.0353,\n",
            "         0.0300,  0.0250,  0.0057, -0.0292,  0.0862, -0.0375,  0.0220,  0.0316,\n",
            "        -0.0780,  0.0298,  0.0691,  0.0103, -0.0123,  0.0666, -0.0745, -0.0459,\n",
            "         0.0171,  0.0839, -0.0089,  0.0583,  0.0039, -0.0378, -0.0500, -0.0073,\n",
            "         0.0668,  0.0541, -0.0197,  0.0640,  0.0468,  0.0689,  0.0109,  0.0477,\n",
            "        -0.0755,  0.0792, -0.0160, -0.0146,  0.0393,  0.0057, -0.0791, -0.0882,\n",
            "         0.0516, -0.0376, -0.0047,  0.0721, -0.0856, -0.0046, -0.0466,  0.0766,\n",
            "        -0.0668,  0.0043, -0.0045,  0.0573,  0.0167, -0.0039, -0.0282,  0.0386,\n",
            "         0.0882,  0.0780, -0.0677,  0.0512, -0.0415,  0.0200, -0.0172,  0.0193,\n",
            "         0.0201, -0.0441,  0.0025, -0.0633, -0.0300, -0.0459,  0.0441, -0.0299,\n",
            "         0.0464,  0.0791, -0.0278,  0.0100, -0.0853,  0.0400, -0.0385, -0.0778,\n",
            "         0.0340,  0.0829,  0.0102,  0.0479, -0.0764,  0.0756,  0.0774,  0.0261,\n",
            "        -0.0685, -0.0845,  0.0405, -0.0474,  0.0645, -0.0439, -0.0096,  0.0854,\n",
            "         0.0010, -0.0321, -0.0818,  0.0358,  0.0424,  0.0455, -0.0447,  0.0069,\n",
            "         0.0604,  0.0010,  0.0454,  0.0280, -0.0188, -0.0357,  0.0672,  0.0465,\n",
            "        -0.0823, -0.0754,  0.0227,  0.0516, -0.0238,  0.0491,  0.0011,  0.0504],\n",
            "       grad_fn=<SelectBackward>)\n",
            "Parameter containing:\n",
            "tensor([ 0.0857, -0.0617, -0.0228, -0.0440, -0.0103], requires_grad=True)\n"
          ],
          "name": "stdout"
        }
      ]
    },
    {
      "metadata": {
        "id": "Ttt9XYDxlg8d",
        "colab_type": "code",
        "outputId": "1639b7d8-3f03-482c-fb97-49a666aae4df",
        "colab": {
          "base_uri": "https://localhost:8080/",
          "height": 161
        }
      },
      "cell_type": "code",
      "source": [
        "input = torch.zeros(1,128)\n",
        "input[0][0] = 1.\n",
        "print(input)"
      ],
      "execution_count": 7,
      "outputs": [
        {
          "output_type": "stream",
          "text": [
            "tensor([[1., 0., 0., 0., 0., 0., 0., 0., 0., 0., 0., 0., 0., 0., 0., 0., 0., 0.,\n",
            "         0., 0., 0., 0., 0., 0., 0., 0., 0., 0., 0., 0., 0., 0., 0., 0., 0., 0.,\n",
            "         0., 0., 0., 0., 0., 0., 0., 0., 0., 0., 0., 0., 0., 0., 0., 0., 0., 0.,\n",
            "         0., 0., 0., 0., 0., 0., 0., 0., 0., 0., 0., 0., 0., 0., 0., 0., 0., 0.,\n",
            "         0., 0., 0., 0., 0., 0., 0., 0., 0., 0., 0., 0., 0., 0., 0., 0., 0., 0.,\n",
            "         0., 0., 0., 0., 0., 0., 0., 0., 0., 0., 0., 0., 0., 0., 0., 0., 0., 0.,\n",
            "         0., 0., 0., 0., 0., 0., 0., 0., 0., 0., 0., 0., 0., 0., 0., 0., 0., 0.,\n",
            "         0., 0.]])\n"
          ],
          "name": "stdout"
        }
      ]
    },
    {
      "metadata": {
        "id": "VAq2AC_Ilsud",
        "colab_type": "code",
        "outputId": "561aca95-f50f-435d-cd72-ac7f46c52835",
        "colab": {
          "base_uri": "https://localhost:8080/",
          "height": 35
        }
      },
      "cell_type": "code",
      "source": [
        "x1 = linear1(input)\n",
        "print(x1)"
      ],
      "execution_count": 8,
      "outputs": [
        {
          "output_type": "stream",
          "text": [
            "tensor([[ 0.1387, -0.0173, -0.0937, -0.0753,  0.0031]], grad_fn=<ThAddmmBackward>)\n"
          ],
          "name": "stdout"
        }
      ]
    },
    {
      "metadata": {
        "id": "jKMu8GbzmA4R",
        "colab_type": "code",
        "colab": {
          "base_uri": "https://localhost:8080/",
          "height": 71
        },
        "outputId": "1326a836-be83-4c28-c405-4a92dfa2c290"
      },
      "cell_type": "code",
      "source": [
        "print(relu(x1)) \n",
        "print(nn.Sigmoid()(x1))\n",
        "print(nn.LeakyReLU()(x1))\n"
      ],
      "execution_count": 9,
      "outputs": [
        {
          "output_type": "stream",
          "text": [
            "tensor([[0.1387, 0.0000, 0.0000, 0.0000, 0.0031]], grad_fn=<ThresholdBackward0>)\n",
            "tensor([[0.5346, 0.4957, 0.4766, 0.4812, 0.5008]], grad_fn=<SigmoidBackward>)\n",
            "tensor([[ 0.1387, -0.0002, -0.0009, -0.0008,  0.0031]], grad_fn=<LeakyReluBackward0>)\n"
          ],
          "name": "stdout"
        }
      ]
    },
    {
      "metadata": {
        "id": "OdzcYL7umtBR",
        "colab_type": "code",
        "colab": {
          "base_uri": "https://localhost:8080/",
          "height": 35
        },
        "outputId": "708bfa5c-50f3-4e53-974e-131671c872e7"
      },
      "cell_type": "code",
      "source": [
        "x2 = relu(x1)\n",
        "\n",
        "print(x2)"
      ],
      "execution_count": 10,
      "outputs": [
        {
          "output_type": "stream",
          "text": [
            "tensor([[0.1387, 0.0000, 0.0000, 0.0000, 0.0031]], grad_fn=<ThresholdBackward0>)\n"
          ],
          "name": "stdout"
        }
      ]
    },
    {
      "metadata": {
        "id": "mMkSJ9uhkbDt",
        "colab_type": "code",
        "outputId": "f216e805-c28a-4a5a-b5eb-cfd8a45eb2a3",
        "colab": {
          "base_uri": "https://localhost:8080/",
          "height": 71
        }
      },
      "cell_type": "code",
      "source": [
        "print(len(weight2))\n",
        "print(weight2[0].size())\n",
        "print(weight2[1].size())"
      ],
      "execution_count": 11,
      "outputs": [
        {
          "output_type": "stream",
          "text": [
            "2\n",
            "torch.Size([10, 5])\n",
            "torch.Size([10])\n"
          ],
          "name": "stdout"
        }
      ]
    },
    {
      "metadata": {
        "id": "WNjDy-psm7MZ",
        "colab_type": "code",
        "colab": {
          "base_uri": "https://localhost:8080/",
          "height": 89
        },
        "outputId": "f390010e-2c1a-4586-8068-401565dc6318"
      },
      "cell_type": "code",
      "source": [
        "print(weight2[0][0])\n",
        "print(weight2[1])"
      ],
      "execution_count": 12,
      "outputs": [
        {
          "output_type": "stream",
          "text": [
            "tensor([-0.1238, -0.4442, -0.2129, -0.4220, -0.0520], grad_fn=<SelectBackward>)\n",
            "Parameter containing:\n",
            "tensor([-0.0810,  0.4115, -0.0328, -0.2929, -0.0731,  0.3385,  0.2220, -0.2008,\n",
            "        -0.3089,  0.0350], requires_grad=True)\n"
          ],
          "name": "stdout"
        }
      ]
    },
    {
      "metadata": {
        "id": "gRhOea5ynE7S",
        "colab_type": "code",
        "colab": {
          "base_uri": "https://localhost:8080/",
          "height": 53
        },
        "outputId": "b7babb87-4061-499c-f49f-163f4c6e39ce"
      },
      "cell_type": "code",
      "source": [
        "x3 = linear2(x2) \n",
        "print(x3)"
      ],
      "execution_count": 13,
      "outputs": [
        {
          "output_type": "stream",
          "text": [
            "tensor([[-0.0984,  0.4262,  0.0035, -0.3297, -0.0368,  0.3191,  0.2838, -0.1502,\n",
            "         -0.3187,  0.0105]], grad_fn=<ThAddmmBackward>)\n"
          ],
          "name": "stdout"
        }
      ]
    },
    {
      "metadata": {
        "id": "8ZWA--PtnQol",
        "colab_type": "code",
        "colab": {
          "base_uri": "https://localhost:8080/",
          "height": 35
        },
        "outputId": "69689ffa-f9c8-4b29-b2d6-59c4244032a4"
      },
      "cell_type": "code",
      "source": [
        "print(0.1387* -0.1238 + 0.0031 *  -0.0520 +-0.0810)"
      ],
      "execution_count": 20,
      "outputs": [
        {
          "output_type": "stream",
          "text": [
            "-0.09833226\n"
          ],
          "name": "stdout"
        }
      ]
    },
    {
      "metadata": {
        "id": "5t_mp4sjnnBA",
        "colab_type": "code",
        "colab": {
          "base_uri": "https://localhost:8080/",
          "height": 35
        },
        "outputId": "638b1c9f-524f-4fce-b94c-001889ba33b8"
      },
      "cell_type": "code",
      "source": [
        "0.4209 - 0.00297402"
      ],
      "execution_count": 15,
      "outputs": [
        {
          "output_type": "execute_result",
          "data": {
            "text/plain": [
              "0.41792598"
            ]
          },
          "metadata": {
            "tags": []
          },
          "execution_count": 15
        }
      ]
    },
    {
      "metadata": {
        "id": "WZTyGxiSoLvC",
        "colab_type": "code",
        "colab": {
          "base_uri": "https://localhost:8080/",
          "height": 35
        },
        "outputId": "e2f009a1-f803-4065-e7d4-694282ac2114"
      },
      "cell_type": "code",
      "source": [
        "print(x3.size())"
      ],
      "execution_count": 16,
      "outputs": [
        {
          "output_type": "stream",
          "text": [
            "torch.Size([1, 10])\n"
          ],
          "name": "stdout"
        }
      ]
    },
    {
      "metadata": {
        "id": "siMxox0VnsHj",
        "colab_type": "code",
        "colab": {
          "base_uri": "https://localhost:8080/",
          "height": 53
        },
        "outputId": "d8b81977-1323-435c-f587-6929c5522fcf"
      },
      "cell_type": "code",
      "source": [
        "\n",
        "temp_target = torch.tensor([9],dtype=torch.long) \n",
        "print(temp_target)\n",
        "\n",
        "\n",
        "x4 = torch.nn.CrossEntropyLoss()(x3,temp_target)\n",
        "\n",
        "print(x4)"
      ],
      "execution_count": 21,
      "outputs": [
        {
          "output_type": "stream",
          "text": [
            "tensor([9])\n",
            "tensor(2.3339, grad_fn=<NllLossBackward>)\n"
          ],
          "name": "stdout"
        }
      ]
    },
    {
      "metadata": {
        "id": "WLArkw8Cn5Cw",
        "colab_type": "code",
        "colab": {
          "base_uri": "https://localhost:8080/",
          "height": 53
        },
        "outputId": "fd0d53cd-b5ce-4df1-f950-7ee76abccc15"
      },
      "cell_type": "code",
      "source": [
        "print(x3)\n",
        "list_x3 = x3.detach().numpy()\n",
        "list_exp = np.exp(list_x3[0])\n",
        "sum_list = np.sum(list_exp)\n",
        "log_list = np.log(sum_list)"
      ],
      "execution_count": 22,
      "outputs": [
        {
          "output_type": "stream",
          "text": [
            "tensor([[-0.0984,  0.4262,  0.0035, -0.3297, -0.0368,  0.3191,  0.2838, -0.1502,\n",
            "         -0.3187,  0.0105]], grad_fn=<ThAddmmBackward>)\n"
          ],
          "name": "stdout"
        }
      ]
    },
    {
      "metadata": {
        "id": "PA4INTaMuP7z",
        "colab_type": "code",
        "colab": {
          "base_uri": "https://localhost:8080/",
          "height": 179
        },
        "outputId": "d6a1fb8e-2b4b-4c02-ff75-1a2355011626"
      },
      "cell_type": "code",
      "source": [
        "print(x3)\n",
        "print(list_x3)\n",
        "print(list_exp)\n",
        "print(sum_list)\n",
        "print(log_list)\n",
        "print(log_list - list_x3[0][9])"
      ],
      "execution_count": 23,
      "outputs": [
        {
          "output_type": "stream",
          "text": [
            "tensor([[-0.0984,  0.4262,  0.0035, -0.3297, -0.0368,  0.3191,  0.2838, -0.1502,\n",
            "         -0.3187,  0.0105]], grad_fn=<ThAddmmBackward>)\n",
            "[[-0.09836547  0.42618725  0.00346776 -0.3297007  -0.03677908  0.31911832\n",
            "   0.28382146 -0.15024126 -0.31873325  0.01045728]]\n",
            "[0.9063176  1.5314075  1.0034738  0.7191389  0.96388906 1.3759141\n",
            " 1.3281958  0.86050034 0.7270695  1.0105121 ]\n",
            "10.426419\n",
            "2.344343\n",
            "2.3338857\n"
          ],
          "name": "stdout"
        }
      ]
    },
    {
      "metadata": {
        "id": "p1Idyl_9uzQq",
        "colab_type": "code",
        "colab": {}
      },
      "cell_type": "code",
      "source": [
        ""
      ],
      "execution_count": 0,
      "outputs": []
    }
  ]
}